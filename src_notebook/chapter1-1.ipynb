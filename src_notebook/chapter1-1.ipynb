{
 "cells": [
  {
   "cell_type": "markdown",
   "metadata": {
    "id": "L5w8HI2m00HT"
   },
   "source": [
    "## **Содержание**"
   ]
  },
  {
   "cell_type": "markdown",
   "metadata": {
    "id": "L5w8HI2m00HT"
   },
   "source": [
    "В ходе занятия будет предложено реализовать программную реализацию алгоритма обратного распространения ошибки и обучение полносвязной нейронной сети без использования готовых фреймворков. Материалы занятия основаны на проекте https://github.com/karpathy/micrograd."
   ]
  },
  {
   "cell_type": "markdown",
   "metadata": {
    "id": "L5w8HI2m00HT"
   },
   "source": [
    "### **Класс Value**"
   ]
  },
  {
   "cell_type": "markdown",
   "metadata": {
    "id": "L5w8HI2m00HT"
   },
   "source": [
    "Класс Value используется для хранения элемента (скаляра) и его градиента."
   ]
  },
  {
   "cell_type": "code",
   "execution_count": 1,
   "metadata": {
    "id": "hBfqVvSrUHD_"
   },
   "outputs": [],
   "source": [
    "class Value:\n",
    "    def __init__(self, data, _children=()):\n",
    "        self.data = data\n",
    "        self.grad = 0\n",
    "        # внутренние переменные для backprop\n",
    "        self._backward = lambda: None\n",
    "        self._prev = set(_children)\n",
    "\n",
    "    def __repr__(self):\n",
    "        return f\"Value(data={self.data}, grad={self.grad})\""
   ]
  },
  {
   "cell_type": "markdown",
   "metadata": {
    "id": "L5w8HI2m00HT"
   },
   "source": [
    "Операция сложения:"
   ]
  },
  {
   "cell_type": "code",
   "execution_count": 2,
   "metadata": {},
   "outputs": [],
   "source": [
    "def add_func(self, other):\n",
    "    other = other if isinstance(other, Value) \\\n",
    "        else Value(other)\n",
    "    out = Value(self.data + other.data, (self, other))\n",
    "\n",
    "    def _backward():\n",
    "        self.grad += out.grad\n",
    "        other.grad += out.grad\n",
    "    out._backward = _backward\n",
    "\n",
    "    return out\n",
    "\n",
    "Value.__add__ = add_func\n",
    "Value.__radd__ = lambda self, other: self + other"
   ]
  },
  {
   "cell_type": "markdown",
   "metadata": {
    "id": "L5w8HI2m00HT"
   },
   "source": [
    "Операция умножения:"
   ]
  },
  {
   "cell_type": "code",
   "execution_count": 3,
   "metadata": {},
   "outputs": [],
   "source": [
    "def mul_func(self, other):\n",
    "    other = other if isinstance(other, Value) \\\n",
    "        else Value(other)\n",
    "    out = Value(self.data * other.data, (self, other))\n",
    "\n",
    "    def _backward():\n",
    "        self.grad += other.data * out.grad\n",
    "        other.grad += self.data * out.grad\n",
    "    out._backward = _backward\n",
    "\n",
    "    return out\n",
    "\n",
    "Value.__mul__ = mul_func\n",
    "Value.__rmul__ = lambda self, other: self * other"
   ]
  },
  {
   "cell_type": "markdown",
   "metadata": {
    "id": "L5w8HI2m00HT"
   },
   "source": [
    "Операция возведения в степень:"
   ]
  },
  {
   "cell_type": "code",
   "execution_count": 4,
   "metadata": {},
   "outputs": [],
   "source": [
    "def pow_func(self, other):\n",
    "    assert isinstance(other, (int, float)), \\\n",
    "        \"only supporting int/float powers for now\"\n",
    "    out = Value(self.data**other, (self,))\n",
    "\n",
    "    def _backward():\n",
    "        self.grad += (other * self.data**(other-1)) \\\n",
    "            * out.grad\n",
    "    out._backward = _backward\n",
    "\n",
    "    return out\n",
    "\n",
    "Value.__pow__ = pow_func"
   ]
  },
  {
   "cell_type": "markdown",
   "metadata": {
    "id": "L5w8HI2m00HT"
   },
   "source": [
    "Оставшиеся арифметические операции определим как комбинации существующих:"
   ]
  },
  {
   "cell_type": "code",
   "execution_count": 5,
   "metadata": {},
   "outputs": [],
   "source": [
    "# -self\n",
    "Value.__neg__ = lambda self: self * -1\n",
    "# self - other\n",
    "Value.__sub__ = lambda self, other: self + (-other)\n",
    "# other - self\n",
    "Value.__rsub__ = lambda self, other: other + (-self)\n",
    "# self / other\n",
    "Value.__truediv__ = lambda self, other: self * other**-1\n",
    "# other / self\n",
    "Value.__rtruediv__ = lambda self, other: other * self**-1"
   ]
  },
  {
   "cell_type": "markdown",
   "metadata": {
    "id": "L5w8HI2m00HT"
   },
   "source": [
    "Определим функцию активации ReLU:"
   ]
  },
  {
   "cell_type": "code",
   "execution_count": 6,
   "metadata": {},
   "outputs": [],
   "source": [
    "def relu_func(self):\n",
    "    out = Value(0 if self.data < 0 \\\n",
    "        else self.data, (self,))\n",
    "\n",
    "    def _backward():\n",
    "        self.grad += (out.data > 0) * out.grad\n",
    "    out._backward = _backward\n",
    "\n",
    "    return out\n",
    "\n",
    "Value.relu = relu_func"
   ]
  },
  {
   "cell_type": "markdown",
   "metadata": {
    "id": "L5w8HI2m00HT"
   },
   "source": [
    "Для расчета градиентов необходимо в обратном порядке перебрать элементы графа вычисления. Для этого используется внутренняя переменная *_prev*."
   ]
  },
  {
   "cell_type": "code",
   "execution_count": 7,
   "metadata": {},
   "outputs": [],
   "source": [
    "def backward_func(self):\n",
    "\n",
    "    # chainrule\n",
    "    topo = []\n",
    "    visited = set()\n",
    "    def build_topo(v):\n",
    "        if v not in visited:\n",
    "            visited.add(v)\n",
    "            for child in v._prev:\n",
    "                build_topo(child)\n",
    "            topo.append(v)\n",
    "    build_topo(self)\n",
    "\n",
    "    # применение backprop согласно chainrule\n",
    "    self.grad = 1\n",
    "    for v in reversed(topo):\n",
    "        v._backward()\n",
    "\n",
    "Value.backward = backward_func"
   ]
  },
  {
   "cell_type": "markdown",
   "metadata": {
    "id": "L5w8HI2m00HT"
   },
   "source": [
    "### Сравнение с torch.autograd"
   ]
  },
  {
   "cell_type": "code",
   "execution_count": 8,
   "metadata": {
    "id": "zQHuXf8STgJv"
   },
   "outputs": [],
   "source": [
    "a = Value(2.0)\n",
    "b = Value(3.0)\n",
    "c = a * b\n",
    "d = Value(5.0)\n",
    "e = d * c\n",
    "e.backward()"
   ]
  },
  {
   "cell_type": "code",
   "execution_count": 9,
   "metadata": {},
   "outputs": [
    {
     "data": {
      "text/plain": [
       "(1, 6.0, 5.0, 10.0, 15.0)"
      ]
     },
     "execution_count": 9,
     "metadata": {},
     "output_type": "execute_result"
    }
   ],
   "source": [
    "e.grad, d.grad, c.grad, b.grad, a.grad"
   ]
  },
  {
   "cell_type": "code",
   "execution_count": 10,
   "metadata": {},
   "outputs": [],
   "source": [
    "import torch"
   ]
  },
  {
   "cell_type": "code",
   "execution_count": 11,
   "metadata": {
    "colab": {
     "base_uri": "https://localhost:8080/"
    },
    "id": "lshBBtQR1GrX",
    "outputId": "f75f4216-f1b4-43bb-f70f-468fa0cfda79"
   },
   "outputs": [
    {
     "name": "stdout",
     "output_type": "stream",
     "text": [
      "passed all tests\n"
     ]
    }
   ],
   "source": [
    "x = Value(-4.0)\n",
    "z = 2 * x + 2 + x\n",
    "q = z.relu() + z * x\n",
    "h = (z * z).relu()\n",
    "y = h + q + q * x\n",
    "y.backward()\n",
    "xmg, ymg = x, y\n",
    "\n",
    "x = torch.Tensor([-4.0]).double()\n",
    "x.requires_grad = True\n",
    "z = 2 * x + 2 + x\n",
    "q = z.relu() + z * x\n",
    "h = (z * z).relu()\n",
    "y = h + q + q * x\n",
    "y.backward()\n",
    "xpt, ypt = x, y\n",
    "\n",
    "# forward pass\n",
    "assert ymg.data == ypt.data.item()\n",
    "# backward pass\n",
    "assert xmg.grad == xpt.grad.item()\n",
    "\n",
    "print(\"passed all tests\")"
   ]
  },
  {
   "cell_type": "code",
   "execution_count": 12,
   "metadata": {
    "colab": {
     "base_uri": "https://localhost:8080/"
    },
    "id": "weCKQVbN1TfA",
    "outputId": "8842f46b-f3e7-4fdc-835c-273a2fa88962"
   },
   "outputs": [
    {
     "name": "stdout",
     "output_type": "stream",
     "text": [
      "passed all tests\n"
     ]
    }
   ],
   "source": [
    "a = Value(-4.0)\n",
    "b = Value(2.0)\n",
    "c = a + b\n",
    "d = a * b + b**3\n",
    "c += c + 1\n",
    "c += 1 + c + (-a)\n",
    "d += d * 2 + (b + a).relu()\n",
    "d += 3 * d + (b - a).relu()\n",
    "e = c - d\n",
    "f = e**2\n",
    "g = f / 2.0\n",
    "g += 10.0 / f\n",
    "g.backward()\n",
    "amg, bmg, gmg = a, b, g\n",
    "\n",
    "a = torch.Tensor([-4.0]).double()\n",
    "b = torch.Tensor([2.0]).double()\n",
    "a.requires_grad = True\n",
    "b.requires_grad = True\n",
    "c = a + b\n",
    "d = a * b + b**3\n",
    "c = c + c + 1\n",
    "c = c + 1 + c + (-a)\n",
    "d = d + d * 2 + (b + a).relu()\n",
    "d = d + 3 * d + (b - a).relu()\n",
    "e = c - d\n",
    "f = e**2\n",
    "g = f / 2.0\n",
    "g = g + 10.0 / f\n",
    "g.backward()\n",
    "apt, bpt, gpt = a, b, g\n",
    "\n",
    "tol = 1e-6\n",
    "# forward pass\n",
    "assert abs(gmg.data - gpt.data.item()) < tol\n",
    "# backward pass\n",
    "assert abs(amg.grad - apt.grad.item()) < tol\n",
    "assert abs(bmg.grad - bpt.grad.item()) < tol\n",
    "\n",
    "print(\"passed all tests\")"
   ]
  },
  {
   "cell_type": "markdown",
   "metadata": {
    "id": "L5w8HI2m00HT"
   },
   "source": [
    "### **Обучение MLP на основе класса Value**"
   ]
  },
  {
   "cell_type": "code",
   "execution_count": 13,
   "metadata": {
    "id": "5YbhGJF9HgAS"
   },
   "outputs": [],
   "source": [
    "import random\n",
    "\n",
    "import torch\n",
    "import numpy as np\n",
    "import matplotlib.pyplot as plt\n",
    "%matplotlib inline\n",
    "from sklearn.datasets import make_moons, make_blobs"
   ]
  },
  {
   "cell_type": "code",
   "execution_count": 14,
   "metadata": {
    "id": "XBtxVGKL1iDs"
   },
   "outputs": [],
   "source": [
    "class Module:\n",
    "    def zero_grad(self):\n",
    "        for p in self.parameters():\n",
    "            p.grad = 0\n",
    "\n",
    "    def parameters(self):\n",
    "        return []"
   ]
  },
  {
   "cell_type": "code",
   "execution_count": 15,
   "metadata": {},
   "outputs": [],
   "source": [
    "class Neuron(Module):\n",
    "    def __init__(self, nin, nonlin=True):\n",
    "        self.w = [Value(random.uniform(-1,1)) \n",
    "            for _ in range(nin)]\n",
    "        self.b = Value(0)\n",
    "        self.nonlin = nonlin\n",
    "\n",
    "    def __call__(self, x):\n",
    "        act = sum((wi*xi \n",
    "            for wi,xi in zip(self.w, x)), self.b)\n",
    "        return act.relu() if self.nonlin else act\n",
    "\n",
    "    def parameters(self):\n",
    "        return self.w + [self.b]\n",
    "\n",
    "    def __repr__(self):\n",
    "        return f\"{'ReLU' if self.nonlin else 'Linear'}Neuron({len(self.w)})\""
   ]
  },
  {
   "cell_type": "code",
   "execution_count": 16,
   "metadata": {},
   "outputs": [],
   "source": [
    "class Layer(Module):\n",
    "    def __init__(self, nin, nout, **kwargs):\n",
    "        self.neurons = [Neuron(nin, **kwargs)\n",
    "            for _ in range(nout)]\n",
    "\n",
    "    def __call__(self, x):\n",
    "        out = [n(x) for n in self.neurons]\n",
    "        return out[0] if len(out) == 1 else out\n",
    "\n",
    "    def parameters(self):\n",
    "        return [p for n in self.neurons for p in n.parameters()]\n",
    "\n",
    "    def __repr__(self):\n",
    "        return f\"Layer of [{', '.join(str(n) for n in self.neurons)}]\""
   ]
  },
  {
   "cell_type": "code",
   "execution_count": 17,
   "metadata": {},
   "outputs": [],
   "source": [
    "class MLP(Module):\n",
    "    def __init__(self, nin, nouts):\n",
    "        sz = [nin] + nouts\n",
    "        self.layers = [Layer(sz[i], sz[i+1], nonlin=i!=len(nouts)-1)\n",
    "            for i in range(len(nouts))]\n",
    "\n",
    "    def __call__(self, x):\n",
    "        for layer in self.layers:\n",
    "            x = layer(x)\n",
    "        return x\n",
    "\n",
    "    def parameters(self):\n",
    "        return [p for layer in self.layers for p in layer.parameters()]\n",
    "\n",
    "    def __repr__(self):\n",
    "        return f\"MLP of [{', '.join(str(layer) for layer in self.layers)}]\""
   ]
  },
  {
   "cell_type": "code",
   "execution_count": 18,
   "metadata": {
    "id": "rUQpTwNU19cZ"
   },
   "outputs": [],
   "source": [
    "seed = 2024\n",
    "np.random.seed(seed)\n",
    "random.seed(seed)"
   ]
  },
  {
   "cell_type": "code",
   "execution_count": 19,
   "metadata": {
    "colab": {
     "base_uri": "https://localhost:8080/",
     "height": 462
    },
    "id": "3uCRYxxo2e7n",
    "outputId": "e1050059-20a1-4057-96d5-9b25b90d8e8f"
   },
   "outputs": [
    {
     "data": {
      "text/plain": [
       "<matplotlib.collections.PathCollection at 0x7eb5a039fa30>"
      ]
     },
     "execution_count": 19,
     "metadata": {},
     "output_type": "execute_result"
    },
    {
     "data": {
      "image/png": "[encoded data removed]",
      "text/plain": [
       "<Figure size 500x500 with 1 Axes>"
      ]
     },
     "metadata": {},
     "output_type": "display_data"
    }
   ],
   "source": [
    "X, y = make_moons(n_samples=100, noise=0.1)\n",
    "\n",
    "y = y*2 - 1 # make y be -1 or 1\n",
    "# visualize in 2D\n",
    "plt.figure(figsize=(5,5))\n",
    "plt.scatter(X[:,0], X[:,1], c=y, s=20, cmap='jet')"
   ]
  },
  {
   "cell_type": "code",
   "execution_count": 20,
   "metadata": {
    "colab": {
     "base_uri": "https://localhost:8080/"
    },
    "id": "UiYor0_K2jP3",
    "outputId": "227f8489-4faf-45c0-fdc0-ea46a7b50525"
   },
   "outputs": [
    {
     "name": "stdout",
     "output_type": "stream",
     "text": [
      "number of parameters 337\n"
     ]
    }
   ],
   "source": [
    "model = MLP(2, [16, 16, 1]) # 2-layer MLP\n",
    "print(\"number of parameters\", len(model.parameters()))"
   ]
  },
  {
   "cell_type": "code",
   "execution_count": 21,
   "metadata": {
    "colab": {
     "base_uri": "https://localhost:8080/"
    },
    "id": "hZixSNGy2hep",
    "outputId": "82d9c4ad-4f2f-410f-9305-b9beb2b4f57e"
   },
   "outputs": [
    {
     "name": "stdout",
     "output_type": "stream",
     "text": [
      "Value(data=0.9572657927863953, grad=0) 0.54\n"
     ]
    }
   ],
   "source": [
    "# loss function\n",
    "def loss(batch_size=None):\n",
    "\n",
    "    # inline DataLoader :)\n",
    "    if batch_size is None:\n",
    "        Xb, yb = X, y\n",
    "    else:\n",
    "        ri = np.random.permutation(X.shape[0])[:batch_size]\n",
    "        Xb, yb = X[ri], y[ri]\n",
    "    inputs = [list(map(Value, xrow)) for xrow in Xb]\n",
    "\n",
    "    # forward the model to get scores\n",
    "    scores = list(map(model, inputs))\n",
    "\n",
    "    # svm \"max-margin\" loss\n",
    "    losses = [(1 + -yi*scorei).relu() \n",
    "        for yi, scorei in zip(yb, scores)]\n",
    "    data_loss = sum(losses) * (1.0 / len(losses))\n",
    "    # L2 regularization\n",
    "    alpha = 1e-4\n",
    "    reg_loss = alpha * sum((p*p for p in model.parameters()))\n",
    "    total_loss = data_loss + reg_loss\n",
    "\n",
    "    # also get accuracy\n",
    "    accuracy = [(yi > 0) == (scorei.data > 0)\n",
    "        for yi, scorei in zip(yb, scores)]\n",
    "    return total_loss, sum(accuracy) / len(accuracy)\n",
    "\n",
    "total_loss, acc = loss()\n",
    "print(total_loss, acc)"
   ]
  },
  {
   "cell_type": "code",
   "execution_count": 22,
   "metadata": {
    "colab": {
     "base_uri": "https://localhost:8080/"
    },
    "id": "5K4p3d1-2pM2",
    "outputId": "6ed30968-f085-4da7-86a3-05cc54339f9f"
   },
   "outputs": [
    {
     "name": "stdout",
     "output_type": "stream",
     "text": [
      "step 0 loss 0.9572657927863953, accuracy 54.0%\n",
      "step 5 loss 0.3298985257023972, accuracy 86.0%\n",
      "step 10 loss 0.23813563082520003, accuracy 88.0%\n",
      "step 15 loss 0.4343065590980976, accuracy 86.0%\n",
      "step 20 loss 0.1322928403578638, accuracy 97.0%\n"
     ]
    }
   ],
   "source": [
    "# optimization\n",
    "for k in range(21):\n",
    "\n",
    "    # forward\n",
    "    total_loss, acc = loss()\n",
    "\n",
    "    # backward\n",
    "    model.zero_grad()\n",
    "    total_loss.backward()\n",
    "\n",
    "    # update (sgd)\n",
    "    learning_rate = 1.0 - 0.9*k/100\n",
    "    for p in model.parameters():\n",
    "        p.data -= learning_rate * p.grad\n",
    "\n",
    "    if k % 5 == 0:\n",
    "        print(f\"step {k} loss {total_loss.data}, accuracy {acc*100}%\")"
   ]
  },
  {
   "cell_type": "code",
   "execution_count": 23,
   "metadata": {
    "colab": {
     "base_uri": "https://localhost:8080/",
     "height": 448
    },
    "id": "bgrXdbw24MuN",
    "outputId": "af13af6a-45b6-479c-c890-4974f2d4b29b"
   },
   "outputs": [
    {
     "data": {
      "text/plain": [
       "(-1.7023042238416939, 2.047695776158306)"
      ]
     },
     "execution_count": 23,
     "metadata": {},
     "output_type": "execute_result"
    },
    {
     "data": {
      "image/png": "[encoded data removed]",
      "text/plain": [
       "<Figure size 640x480 with 1 Axes>"
      ]
     },
     "metadata": {},
     "output_type": "display_data"
    }
   ],
   "source": [
    "# visualize decision boundary\n",
    "\n",
    "h = 0.25\n",
    "x_min, x_max = X[:, 0].min() - 1, X[:, 0].max() + 1\n",
    "y_min, y_max = X[:, 1].min() - 1, X[:, 1].max() + 1\n",
    "xx, yy = np.meshgrid(np.arange(x_min, x_max, h),\n",
    "                     np.arange(y_min, y_max, h))\n",
    "Xmesh = np.c_[xx.ravel(), yy.ravel()]\n",
    "inputs = [list(map(Value, xrow)) for xrow in Xmesh]\n",
    "scores = list(map(model, inputs))\n",
    "Z = np.array([s.data > 0 for s in scores])\n",
    "Z = Z.reshape(xx.shape)\n",
    "\n",
    "fig = plt.figure()\n",
    "plt.contourf(xx, yy, Z, cmap=plt.cm.Spectral, alpha=0.8)\n",
    "plt.scatter(X[:, 0], X[:, 1], c=y, s=40, cmap=plt.cm.Spectral)\n",
    "plt.xlim(xx.min(), xx.max())\n",
    "plt.ylim(yy.min(), yy.max())"
   ]
  }
 ],
 "metadata": {
  "colab": {
   "provenance": []
  },
  "kernelspec": {
   "display_name": "Python 3 (ipykernel)",
   "language": "python",
   "name": "python3"
  },
  "language_info": {
   "codemirror_mode": {
    "name": "ipython",
    "version": 3
   },
   "file_extension": ".py",
   "mimetype": "text/x-python",
   "name": "python",
   "nbconvert_exporter": "python",
   "pygments_lexer": "ipython3",
   "version": "3.10.12"
  }
 },
 "nbformat": 4,
 "nbformat_minor": 4
}
